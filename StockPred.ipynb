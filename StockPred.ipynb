{
 "cells": [
  {
   "cell_type": "code",
   "execution_count": 14,
   "id": "c57359c1-428e-4f73-a6f4-bddd090e720b",
   "metadata": {},
   "outputs": [],
   "source": [
    "import numpy as np\n",
    "import pandas as pd\n",
    "import matplotlib.pyplot as plt\n",
    "import yfinance as yf\n",
    "import keras\n",
    "from datetime import datetime"
   ]
  },
  {
   "cell_type": "code",
   "execution_count": 15,
   "id": "b2efef53-983a-4322-a0ac-c05213344ad5",
   "metadata": {},
   "outputs": [
    {
     "data": {
      "text/plain": [
       "'2.10.0'"
      ]
     },
     "execution_count": 15,
     "metadata": {},
     "output_type": "execute_result"
    }
   ],
   "source": [
    "keras.__version__"
   ]
  },
  {
   "cell_type": "code",
   "execution_count": 16,
   "id": "82548f8b-8227-4dd8-9064-13ad020907d1",
   "metadata": {},
   "outputs": [
    {
     "name": "stderr",
     "output_type": "stream",
     "text": [
      "[*********************100%%**********************]  1 of 1 completed\n"
     ]
    }
   ],
   "source": [
    "end = datetime.now()\n",
    "start = datetime(end.year - 10, end.month, end.day)\n",
    "\n",
    "\n",
    "stock = 'GOOG'\n",
    "data = yf.download(stock, start, end)"
   ]
  },
  {
   "cell_type": "code",
   "execution_count": 17,
   "id": "c2c031b5-92a4-4f9a-ad70-5628dcbfec7d",
   "metadata": {},
   "outputs": [
    {
     "data": {
      "text/html": [
       "<div>\n",
       "<style scoped>\n",
       "    .dataframe tbody tr th:only-of-type {\n",
       "        vertical-align: middle;\n",
       "    }\n",
       "\n",
       "    .dataframe tbody tr th {\n",
       "        vertical-align: top;\n",
       "    }\n",
       "\n",
       "    .dataframe thead th {\n",
       "        text-align: right;\n",
       "    }\n",
       "</style>\n",
       "<table border=\"1\" class=\"dataframe\">\n",
       "  <thead>\n",
       "    <tr style=\"text-align: right;\">\n",
       "      <th></th>\n",
       "      <th>Open</th>\n",
       "      <th>High</th>\n",
       "      <th>Low</th>\n",
       "      <th>Close</th>\n",
       "      <th>Adj Close</th>\n",
       "      <th>Volume</th>\n",
       "    </tr>\n",
       "    <tr>\n",
       "      <th>Date</th>\n",
       "      <th></th>\n",
       "      <th></th>\n",
       "      <th></th>\n",
       "      <th></th>\n",
       "      <th></th>\n",
       "      <th></th>\n",
       "    </tr>\n",
       "  </thead>\n",
       "  <tbody>\n",
       "    <tr>\n",
       "      <th>2014-02-26</th>\n",
       "      <td>30.485731</td>\n",
       "      <td>30.607277</td>\n",
       "      <td>30.230688</td>\n",
       "      <td>30.390341</td>\n",
       "      <td>30.390341</td>\n",
       "      <td>79585191</td>\n",
       "    </tr>\n",
       "    <tr>\n",
       "      <th>2014-02-27</th>\n",
       "      <td>30.346006</td>\n",
       "      <td>30.491461</td>\n",
       "      <td>30.311634</td>\n",
       "      <td>30.366428</td>\n",
       "      <td>30.366428</td>\n",
       "      <td>50588912</td>\n",
       "    </tr>\n",
       "    <tr>\n",
       "      <th>2014-02-28</th>\n",
       "      <td>30.394573</td>\n",
       "      <td>30.490463</td>\n",
       "      <td>30.042892</td>\n",
       "      <td>30.277761</td>\n",
       "      <td>30.277761</td>\n",
       "      <td>92890878</td>\n",
       "    </tr>\n",
       "    <tr>\n",
       "      <th>2014-03-03</th>\n",
       "      <td>30.056091</td>\n",
       "      <td>30.083241</td>\n",
       "      <td>29.692205</td>\n",
       "      <td>29.954971</td>\n",
       "      <td>29.954971</td>\n",
       "      <td>84507572</td>\n",
       "    </tr>\n",
       "    <tr>\n",
       "      <th>2014-03-04</th>\n",
       "      <td>30.261572</td>\n",
       "      <td>30.286480</td>\n",
       "      <td>30.124586</td>\n",
       "      <td>30.259331</td>\n",
       "      <td>30.259331</td>\n",
       "      <td>58928052</td>\n",
       "    </tr>\n",
       "    <tr>\n",
       "      <th>...</th>\n",
       "      <td>...</td>\n",
       "      <td>...</td>\n",
       "      <td>...</td>\n",
       "      <td>...</td>\n",
       "      <td>...</td>\n",
       "      <td>...</td>\n",
       "    </tr>\n",
       "    <tr>\n",
       "      <th>2024-02-20</th>\n",
       "      <td>140.940002</td>\n",
       "      <td>143.328995</td>\n",
       "      <td>140.800003</td>\n",
       "      <td>142.199997</td>\n",
       "      <td>142.199997</td>\n",
       "      <td>18625600</td>\n",
       "    </tr>\n",
       "    <tr>\n",
       "      <th>2024-02-21</th>\n",
       "      <td>142.639999</td>\n",
       "      <td>143.979996</td>\n",
       "      <td>141.910004</td>\n",
       "      <td>143.839996</td>\n",
       "      <td>143.839996</td>\n",
       "      <td>16499600</td>\n",
       "    </tr>\n",
       "    <tr>\n",
       "      <th>2024-02-22</th>\n",
       "      <td>146.119995</td>\n",
       "      <td>146.199997</td>\n",
       "      <td>144.009995</td>\n",
       "      <td>145.320007</td>\n",
       "      <td>145.320007</td>\n",
       "      <td>23024700</td>\n",
       "    </tr>\n",
       "    <tr>\n",
       "      <th>2024-02-23</th>\n",
       "      <td>144.970001</td>\n",
       "      <td>145.955002</td>\n",
       "      <td>144.789993</td>\n",
       "      <td>145.289993</td>\n",
       "      <td>145.289993</td>\n",
       "      <td>14508400</td>\n",
       "    </tr>\n",
       "    <tr>\n",
       "      <th>2024-02-26</th>\n",
       "      <td>143.449997</td>\n",
       "      <td>143.839996</td>\n",
       "      <td>138.740005</td>\n",
       "      <td>138.750000</td>\n",
       "      <td>138.750000</td>\n",
       "      <td>33395836</td>\n",
       "    </tr>\n",
       "  </tbody>\n",
       "</table>\n",
       "<p>2517 rows × 6 columns</p>\n",
       "</div>"
      ],
      "text/plain": [
       "                  Open        High         Low       Close   Adj Close  \\\n",
       "Date                                                                     \n",
       "2014-02-26   30.485731   30.607277   30.230688   30.390341   30.390341   \n",
       "2014-02-27   30.346006   30.491461   30.311634   30.366428   30.366428   \n",
       "2014-02-28   30.394573   30.490463   30.042892   30.277761   30.277761   \n",
       "2014-03-03   30.056091   30.083241   29.692205   29.954971   29.954971   \n",
       "2014-03-04   30.261572   30.286480   30.124586   30.259331   30.259331   \n",
       "...                ...         ...         ...         ...         ...   \n",
       "2024-02-20  140.940002  143.328995  140.800003  142.199997  142.199997   \n",
       "2024-02-21  142.639999  143.979996  141.910004  143.839996  143.839996   \n",
       "2024-02-22  146.119995  146.199997  144.009995  145.320007  145.320007   \n",
       "2024-02-23  144.970001  145.955002  144.789993  145.289993  145.289993   \n",
       "2024-02-26  143.449997  143.839996  138.740005  138.750000  138.750000   \n",
       "\n",
       "              Volume  \n",
       "Date                  \n",
       "2014-02-26  79585191  \n",
       "2014-02-27  50588912  \n",
       "2014-02-28  92890878  \n",
       "2014-03-03  84507572  \n",
       "2014-03-04  58928052  \n",
       "...              ...  \n",
       "2024-02-20  18625600  \n",
       "2024-02-21  16499600  \n",
       "2024-02-22  23024700  \n",
       "2024-02-23  14508400  \n",
       "2024-02-26  33395836  \n",
       "\n",
       "[2517 rows x 6 columns]"
      ]
     },
     "execution_count": 17,
     "metadata": {},
     "output_type": "execute_result"
    }
   ],
   "source": [
    "data"
   ]
  },
  {
   "cell_type": "code",
   "execution_count": 18,
   "id": "c6458c14-9413-4e50-88cb-31d8787695dd",
   "metadata": {},
   "outputs": [],
   "source": [
    "## get the moving avaerage of the last 100 days\n",
    "ma_100 = data.Close.rolling(100).mean()"
   ]
  },
  {
   "cell_type": "code",
   "execution_count": 19,
   "id": "cfc8f8f8-103a-4c16-a60c-107ead47e3d6",
   "metadata": {},
   "outputs": [],
   "source": [
    "data.dropna(inplace = True)"
   ]
  },
  {
   "cell_type": "code",
   "execution_count": 20,
   "id": "06375759-6b9c-44e1-a72b-38c917167468",
   "metadata": {},
   "outputs": [],
   "source": [
    "train_data = pd.DataFrame(data.Close[0: int(len(data)*0.80)])\n",
    "test_data = pd.DataFrame(data.Close[int(len(data)*0.80): len(data)])"
   ]
  },
  {
   "cell_type": "code",
   "execution_count": 21,
   "id": "8373e214-172e-4a42-923a-69ded4d300c8",
   "metadata": {},
   "outputs": [],
   "source": [
    "## scaling the data\n",
    "from sklearn.preprocessing import MinMaxScaler\n",
    "scaler = MinMaxScaler(feature_range=(0,1))"
   ]
  },
  {
   "cell_type": "code",
   "execution_count": 22,
   "id": "78c8c07e-fbe5-4b61-b813-cf0071453b41",
   "metadata": {},
   "outputs": [],
   "source": [
    "data_train_scaled = scaler.fit_transform(train_data)"
   ]
  },
  {
   "cell_type": "code",
   "execution_count": 23,
   "id": "ee8a733f-1fbb-4c11-9745-1698d43d388b",
   "metadata": {},
   "outputs": [],
   "source": [
    "x = []\n",
    "y = []\n",
    "for i in range(100, data_train_scaled.shape[0]):\n",
    "    x.append(data_train_scaled[i-100: i])\n",
    "    y.append(data_train_scaled[i,0])"
   ]
  },
  {
   "cell_type": "code",
   "execution_count": 24,
   "id": "b550a4ef-1988-4609-af29-a40a60414756",
   "metadata": {},
   "outputs": [],
   "source": [
    "x, y = np.array(x), np.array(y)"
   ]
  },
  {
   "cell_type": "code",
   "execution_count": 25,
   "id": "b36c817d-eb4a-4a29-af48-659481cc97fa",
   "metadata": {},
   "outputs": [],
   "source": [
    "from keras.layers import Dense, Dropout, LSTM\n",
    "from keras.models import Sequential"
   ]
  },
  {
   "cell_type": "code",
   "execution_count": 26,
   "id": "f3fa4856-4479-4b1e-a91c-660b3c291615",
   "metadata": {},
   "outputs": [
    {
     "name": "stdout",
     "output_type": "stream",
     "text": [
      "WARNING:tensorflow:Layer lstm_4 will not use cuDNN kernels since it doesn't meet the criteria. It will use a generic GPU kernel as fallback when running on GPU.\n",
      "WARNING:tensorflow:Layer lstm_5 will not use cuDNN kernels since it doesn't meet the criteria. It will use a generic GPU kernel as fallback when running on GPU.\n",
      "WARNING:tensorflow:Layer lstm_6 will not use cuDNN kernels since it doesn't meet the criteria. It will use a generic GPU kernel as fallback when running on GPU.\n",
      "WARNING:tensorflow:Layer lstm_7 will not use cuDNN kernels since it doesn't meet the criteria. It will use a generic GPU kernel as fallback when running on GPU.\n"
     ]
    }
   ],
   "source": [
    "model = Sequential()\n",
    "model.add(LSTM(units=50, activation = 'relu', return_sequences = True, input_shape = ((x.shape[1], 1))))\n",
    "model.add(Dropout(0.2))\n",
    "model.add(LSTM(units = 60, activation = 'relu', return_sequences = True))\n",
    "model.add(Dropout(0.3))\n",
    "model.add(LSTM(units = 80, activation = 'relu', return_sequences = True))\n",
    "model.add(Dropout(0.4))\n",
    "model.add(LSTM(units = 120, activation = 'relu'))\n",
    "model.add(Dropout(0.5))\n",
    "model.add(Dense(units = 1))\n",
    "          "
   ]
  },
  {
   "cell_type": "code",
   "execution_count": 27,
   "id": "f3e28180-d63a-4db1-812f-e52329441e5c",
   "metadata": {},
   "outputs": [
    {
     "name": "stdout",
     "output_type": "stream",
     "text": [
      "Epoch 1/14\n",
      "60/60 [==============================] - 72s 1s/step - loss: 0.0264\n",
      "Epoch 2/14\n",
      "60/60 [==============================] - 65s 1s/step - loss: 0.0057\n",
      "Epoch 3/14\n",
      "60/60 [==============================] - 65s 1s/step - loss: 0.0056\n",
      "Epoch 4/14\n",
      "60/60 [==============================] - 65s 1s/step - loss: 0.0040\n",
      "Epoch 5/14\n",
      "60/60 [==============================] - 65s 1s/step - loss: 0.0039\n",
      "Epoch 6/14\n",
      "60/60 [==============================] - 92s 2s/step - loss: 0.0036\n",
      "Epoch 7/14\n",
      "60/60 [==============================] - 109s 2s/step - loss: 0.0031\n",
      "Epoch 8/14\n",
      "60/60 [==============================] - 102s 2s/step - loss: 0.0035\n",
      "Epoch 9/14\n",
      "60/60 [==============================] - 72s 1s/step - loss: 0.0034\n",
      "Epoch 10/14\n",
      "60/60 [==============================] - 80s 1s/step - loss: 0.0032\n",
      "Epoch 11/14\n",
      "60/60 [==============================] - 64s 1s/step - loss: 0.0028\n",
      "Epoch 12/14\n",
      "60/60 [==============================] - 64s 1s/step - loss: 0.0030\n",
      "Epoch 13/14\n",
      "60/60 [==============================] - 65s 1s/step - loss: 0.0028\n",
      "Epoch 14/14\n",
      "60/60 [==============================] - 67s 1s/step - loss: 0.0032\n"
     ]
    },
    {
     "data": {
      "text/plain": [
       "<keras.callbacks.History at 0x16affd32d10>"
      ]
     },
     "execution_count": 27,
     "metadata": {},
     "output_type": "execute_result"
    }
   ],
   "source": [
    "model.compile(optimizer = 'adam', loss = 'mean_squared_error')\n",
    "model.fit(x, y, epochs = 14, batch_size = 32, verbose = 1)"
   ]
  },
  {
   "cell_type": "code",
   "execution_count": 28,
   "id": "b26396fa-2eec-427e-86b5-f8670e935e05",
   "metadata": {},
   "outputs": [],
   "source": [
    "past_100_days = train_data.tail(100)\n",
    "test_data = pd.concat([past_100_days, test_data], ignore_index=True)"
   ]
  },
  {
   "cell_type": "code",
   "execution_count": 29,
   "id": "aaf20ff1-8bc2-4bf5-989e-d53f434d5d5a",
   "metadata": {},
   "outputs": [],
   "source": [
    "test_data_scaled = scaler.fit_transform(test_data)"
   ]
  },
  {
   "cell_type": "code",
   "execution_count": 30,
   "id": "94b2ddaa-c1c9-4966-b3ed-0b18d28ae1f5",
   "metadata": {},
   "outputs": [],
   "source": [
    "x = []\n",
    "y = []\n",
    "for i in range(100, test_data_scaled.shape[0]):\n",
    "    x.append(test_data_scaled[i-100: i])\n",
    "    y.append(test_data_scaled[i,0])\n",
    "x, y = np.array(x), np.array(y)"
   ]
  },
  {
   "cell_type": "code",
   "execution_count": 31,
   "id": "626ab78d-466c-4d0e-9a52-3960abef6f80",
   "metadata": {},
   "outputs": [
    {
     "name": "stdout",
     "output_type": "stream",
     "text": [
      "16/16 [==============================] - 3s 142ms/step\n"
     ]
    }
   ],
   "source": [
    "y_pred = model.predict(x)"
   ]
  },
  {
   "cell_type": "code",
   "execution_count": 32,
   "id": "1feb1d3c-3bcb-4e72-8c8e-733ba8fbe870",
   "metadata": {},
   "outputs": [],
   "source": [
    "scale = 1/scaler.scale_"
   ]
  },
  {
   "cell_type": "code",
   "execution_count": 33,
   "id": "3acdc7c7-440a-4be0-ad66-37bef3e9d038",
   "metadata": {},
   "outputs": [],
   "source": [
    "y_pred = y_pred*scale"
   ]
  },
  {
   "cell_type": "code",
   "execution_count": 34,
   "id": "ead1e273-ab39-4c23-a710-bc7ccd227b56",
   "metadata": {},
   "outputs": [],
   "source": [
    "y = y*scale"
   ]
  },
  {
   "cell_type": "code",
   "execution_count": 35,
   "id": "eed5b193-4cf8-4719-8a4d-e00bdfe3405b",
   "metadata": {},
   "outputs": [
    {
     "data": {
      "image/png": "[encoded data removed]",
      "text/plain": [
       "<Figure size 1000x800 with 1 Axes>"
      ]
     },
     "metadata": {},
     "output_type": "display_data"
    }
   ],
   "source": [
    "plt.figure(figsize = (10,8))\n",
    "plt.plot(y_pred, 'r', label = \"Predicted Price\")\n",
    "plt.plot(y, 'g', label = 'Original Price')\n",
    "plt.xlabel('Time')\n",
    "plt.ylabel('Price')\n",
    "plt.legend()\n",
    "plt.show()"
   ]
  },
  {
   "cell_type": "code",
   "execution_count": 36,
   "id": "b8a8ae3d-0675-4a30-bc75-dd7286b1a7e6",
   "metadata": {},
   "outputs": [],
   "source": [
    "model.save('model.keras')"
   ]
  },
  {
   "cell_type": "code",
   "execution_count": null,
   "id": "e0873411-cf79-4188-b0bc-08e45bf959df",
   "metadata": {},
   "outputs": [],
   "source": []
  },
  {
   "cell_type": "code",
   "execution_count": null,
   "id": "2b42f487-18fa-4a47-b46e-38350213f1c9",
   "metadata": {},
   "outputs": [],
   "source": []
  },
  {
   "cell_type": "code",
   "execution_count": null,
   "id": "74673c08-3d6e-41c9-8cd2-6a2e7175ba7d",
   "metadata": {},
   "outputs": [],
   "source": []
  },
  {
   "cell_type": "code",
   "execution_count": null,
   "id": "767cb1d7-67b8-422c-858f-21cb5c73a2a4",
   "metadata": {},
   "outputs": [],
   "source": []
  },
  {
   "cell_type": "code",
   "execution_count": null,
   "id": "9ec1b033-1615-4e95-915d-89708805be9e",
   "metadata": {},
   "outputs": [],
   "source": []
  },
  {
   "cell_type": "code",
   "execution_count": null,
   "id": "65b0fe9c-548f-4905-8abc-54f972637328",
   "metadata": {},
   "outputs": [],
   "source": []
  },
  {
   "cell_type": "code",
   "execution_count": null,
   "id": "df9b62e5-b1f5-4b00-80e4-376df5150d43",
   "metadata": {},
   "outputs": [],
   "source": []
  },
  {
   "cell_type": "code",
   "execution_count": null,
   "id": "388c7555-d965-47d8-94e7-1b5c0463118b",
   "metadata": {},
   "outputs": [],
   "source": []
  },
  {
   "cell_type": "code",
   "execution_count": null,
   "id": "3d0a0a80-7340-4930-899f-991574d96593",
   "metadata": {},
   "outputs": [],
   "source": []
  },
  {
   "cell_type": "code",
   "execution_count": null,
   "id": "600b3305-2745-4327-a1ca-91f7f4a4c4ac",
   "metadata": {},
   "outputs": [],
   "source": []
  },
  {
   "cell_type": "code",
   "execution_count": null,
   "id": "e3d31799-b10e-420e-bf2f-035d3a013110",
   "metadata": {},
   "outputs": [],
   "source": []
  }
 ],
 "metadata": {
  "kernelspec": {
   "display_name": "Python 3 (ipykernel)",
   "language": "python",
   "name": "python3"
  },
  "language_info": {
   "codemirror_mode": {
    "name": "ipython",
    "version": 3
   },
   "file_extension": ".py",
   "mimetype": "text/x-python",
   "name": "python",
   "nbconvert_exporter": "python",
   "pygments_lexer": "ipython3",
   "version": "3.10.13"
  }
 },
 "nbformat": 4,
 "nbformat_minor": 5
}
